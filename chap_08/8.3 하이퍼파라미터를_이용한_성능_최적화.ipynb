{
 "cells": [
  {
   "attachments": {},
   "cell_type": "markdown",
   "metadata": {},
   "source": [
    "# 8.3.1 배치 정규화를 이용한 성능 최적화"
   ]
  },
  {
   "attachments": {},
   "cell_type": "markdown",
   "metadata": {},
   "source": [
    "### 정규화"
   ]
  },
  {
   "attachments": {},
   "cell_type": "markdown",
   "metadata": {},
   "source": [
    "정규화(normalization)는 데이터 범위를 사용자가 언하는 범위로 제한하는 것을 의미한다. \n",
    "\n",
    "<img src=\"최적화3.jpg\" width=\"800\" height=\"200\"/>\n",
    "\n",
    "정규화는 각 특성범위(스케일(scale))를 조정한다는 의미로 특성 스케일링이라고도 한다.  \n",
    "스케일 조정을 위해 MinMaxScaler() 기법을 사용하므로 수식은 다음과 같다.\n",
    "\n",
    "<img src=\"최적화4.jpg\" width=\"400\" height=\"300\"/>"
   ]
  },
  {
   "attachments": {},
   "cell_type": "markdown",
   "metadata": {},
   "source": [
    "### 규제화"
   ]
  },
  {
   "attachments": {},
   "cell_type": "markdown",
   "metadata": {},
   "source": [
    "규제화(regularization)는 모델 복잡도를 줄이기 위해 제약을 두는 방법이다. 이때 제약은 데이터가 네트워크에 들어가기 전에 필터를 적용한 것이라고 생각하면 된다.  \n",
    "예를 들어 다음 왼쪽 그림은 필터가 적용되지 않을 경우 모든 데이터가 네트워크에 투입되지만, 오른쪽 그림은 필터로 걸러진 데이터지만 네트워크에 투입되어 빠르고 정확한 결과를 얻을 수 있다.\n",
    "\n",
    "<img src=\"최적화5.jpg\" width=\"800\" height=\"200\"/>\n",
    "\n",
    "규제를 이용하여 모델 복잡도를 줄이는 방법은 다음과 같다.  \n",
    "* 드롭아웃\n",
    "* 조기 종료"
   ]
  },
  {
   "attachments": {},
   "cell_type": "markdown",
   "metadata": {},
   "source": [
    "### 표준화"
   ]
  },
  {
   "attachments": {},
   "cell_type": "markdown",
   "metadata": {},
   "source": [
    "표준화(standardization)는 기존 데이터를 평균은 0, 표준편차는 1인 형태의 데이터로 만드는 방법이다.  \n",
    "다른 표현으로 표준화 스칼라 혹은 z-스코어 정규화라고도 한다.\n",
    "\n",
    "<img src=\"최적화6.jpg\" width=\"400\" height=\"300\"/>\n",
    "\n",
    "평균을 기준으로 얼마나 떨어져 있는지 살펴볼 때 사용한다. 보통 데이터 분포가 가우시안 분포를 따를 때 유용한 방법으로 다음 수식을 사용한다.\n",
    "\n",
    "<img src=\"최적화7.jpg\" width=\"800\" height=\"200\"/>"
   ]
  },
  {
   "attachments": {},
   "cell_type": "markdown",
   "metadata": {},
   "source": [
    "### 배치 정규화"
   ]
  },
  {
   "attachments": {},
   "cell_type": "markdown",
   "metadata": {},
   "source": [
    "배치 정규화(batch normalization)은 데이터 분포가 안정되어 학습 속도를 높일 수 있다.\n",
    "\n",
    "배치 정규화는 기울기 소멸이나 기울기 폭발같은 문제를 해결하기 위한 방법이다. 일반적으로 기울기 소멸이나 폭발문제를 해결하기 위해 손실함수로 렐루(ReLU)를 사용하거나 초기값 튜닝, 학습률등을 조정한다.\n",
    "\n",
    "<img src=\"최적화8.jpg\" width=\"600\" height=\"300\"/>\n",
    "\n",
    "배치 정규화 논문에 따르면 기울기 소멸과 폭발 원인은 내부 공변량 변화(internal covariance shift) 때문인데, 이것은 네트워크의 각 층마다 활성화 함수가 적용되면서 입력 값들의 분포가 계속 바뀌는 현상을 의미한다.  \n",
    "따라서 분산된 분포를 정규분포로 만들기 위해 표준화와 유사한 방식을 미니 배치에 적용하여 평균은 0으로, 표준편차는 1로 유지하도록 하며, 수식은 다음과 같다.\n",
    "\n",
    "<img src=\"최적화9.jpg\" width=\"300\" height=\"300\"/>\n",
    "\n",
    "1. 미니 배치 평균을 구한다.\n",
    "2. 미니 배치의 분산과 표준편차를 구한다.\n",
    "3. 정규화를 수행한다.\n",
    "4. 스케일을 조정한다.(데이터 분포 조정)\n",
    "\n",
    "따라서 매 단계마다 활성화 함수를 거치면서 데이터셋 분포가 일정해지기 때문에 속도를 향상시킬 수 있지만 다음과 같은 단점도 존재한다.\n",
    "\n",
    "첫째, 배치 크기가 작을 때는 정규화 값이 기존 값과 다른 방향으로 훈련될 수 있다. 예를 들어 분산이 0이면 정규화 자체가 안 되는 경우가 생길 수 있다.\n",
    "둘째, RNN은 네트워크 계층별로 미니 정규화를 적용해야 하기 때문에 모델이 더 복잡해지면서 비효율적일 수 있다.\n",
    "\n",
    "따라서 이러한 문제들을 해결하기 위한 가중치 수정, 네트워크 구성 변경 등을 수행하지만, 무엇보다 중요한건 배치 정규화를 적용하면 하지 않았을 때 보다 성능이 좋아지기 때문에 많이 사용된다."
   ]
  },
  {
   "attachments": {},
   "cell_type": "markdown",
   "metadata": {},
   "source": [
    "# 8.3.2 드롭아웃을 이용한 성능 최적화"
   ]
  },
  {
   "attachments": {},
   "cell_type": "markdown",
   "metadata": {},
   "source": [
    "과적합은 훈련 데이터셋을 과하게 학습하는 것을 의미한다.  \n",
    "일반적으로 훈련 데이터셋은 실제 데이터셋의 부분집합이므로 훈련 데이터셋에 대해서는 오류가 감소하지만, 테스트 데이터셋에 대해서는 오류가 증가한다.  \n",
    "즉, 훈련 데이터셋에 대해 훈련을 계속한다면, 테스트 데이터셋에 대한 오류는 어느 순간부터 증가하는데, 이러한 모델을 과적합되어 있다고 한다.\n",
    "\n",
    "<img src=\"최적화10.jpg\" width=\"400\" height=\"300\"/>\n",
    "\n",
    "드롭아웃이란 훈련할 때 일정 비율의 뉴런만 사용하고 나머지 뉴런에 대한 갖ㅇ치는 업데이트 하지 않는 방법이다. 물론 매 단게마다 사용하지 않는 뉴런을 바꾸어 가며 훈련시킨다.  \n",
    "즉, 드롭아웃은 노드를 임의로 끄면서 학습하는 방법으로, 은닉층에 배치된 노드 중 일부를 임의로 끄면서 학습한다. \n",
    "\n",
    "<img src=\"최적화11.jpg\" width=\"400\" height=\"300\"/>\n",
    "\n",
    "드롭아웃을 사용하면 훈련시간이 길어지는 단점이 있지만, 모델 성능을 향상하기 위해 상당히 자주 쓰는 방법이다."
   ]
  },
  {
   "cell_type": "code",
   "execution_count": 1,
   "metadata": {},
   "outputs": [],
   "source": [
    "# 코드 8-1 라이브러리 호출\n",
    "import torch\n",
    "import matplotlib.pyplot as plt\n",
    "import numpy as np\n",
    "\n",
    "import torchvision \n",
    "import torchvision.transforms as transforms\n",
    "\n",
    "import torch.nn as nn\n",
    "import torch.optim as optim"
   ]
  },
  {
   "cell_type": "code",
   "execution_count": 2,
   "metadata": {},
   "outputs": [
    {
     "name": "stdout",
     "output_type": "stream",
     "text": [
      "Downloading http://fashion-mnist.s3-website.eu-central-1.amazonaws.com/train-images-idx3-ubyte.gz\n",
      "Downloading http://fashion-mnist.s3-website.eu-central-1.amazonaws.com/train-images-idx3-ubyte.gz to ../chap_08/data\\FashionMNIST\\raw\\train-images-idx3-ubyte.gz\n"
     ]
    },
    {
     "data": {
      "application/vnd.jupyter.widget-view+json": {
       "model_id": "6297d4832cb94d9eb9da7f63f7fde6db",
       "version_major": 2,
       "version_minor": 0
      },
      "text/plain": [
       "  0%|          | 0/26421880 [00:00<?, ?it/s]"
      ]
     },
     "metadata": {},
     "output_type": "display_data"
    },
    {
     "name": "stdout",
     "output_type": "stream",
     "text": [
      "Extracting ../chap_08/data\\FashionMNIST\\raw\\train-images-idx3-ubyte.gz to ../chap_08/data\\FashionMNIST\\raw\n",
      "\n",
      "Downloading http://fashion-mnist.s3-website.eu-central-1.amazonaws.com/train-labels-idx1-ubyte.gz\n",
      "Downloading http://fashion-mnist.s3-website.eu-central-1.amazonaws.com/train-labels-idx1-ubyte.gz to ../chap_08/data\\FashionMNIST\\raw\\train-labels-idx1-ubyte.gz\n"
     ]
    },
    {
     "data": {
      "application/vnd.jupyter.widget-view+json": {
       "model_id": "c8c5925f16bb42088a2b2dcae9f4784f",
       "version_major": 2,
       "version_minor": 0
      },
      "text/plain": [
       "  0%|          | 0/29515 [00:00<?, ?it/s]"
      ]
     },
     "metadata": {},
     "output_type": "display_data"
    },
    {
     "name": "stdout",
     "output_type": "stream",
     "text": [
      "Extracting ../chap_08/data\\FashionMNIST\\raw\\train-labels-idx1-ubyte.gz to ../chap_08/data\\FashionMNIST\\raw\n",
      "\n",
      "Downloading http://fashion-mnist.s3-website.eu-central-1.amazonaws.com/t10k-images-idx3-ubyte.gz\n",
      "Downloading http://fashion-mnist.s3-website.eu-central-1.amazonaws.com/t10k-images-idx3-ubyte.gz to ../chap_08/data\\FashionMNIST\\raw\\t10k-images-idx3-ubyte.gz\n"
     ]
    },
    {
     "data": {
      "application/vnd.jupyter.widget-view+json": {
       "model_id": "028acb20192d4d22bfde342e5924781c",
       "version_major": 2,
       "version_minor": 0
      },
      "text/plain": [
       "  0%|          | 0/4422102 [00:00<?, ?it/s]"
      ]
     },
     "metadata": {},
     "output_type": "display_data"
    },
    {
     "name": "stdout",
     "output_type": "stream",
     "text": [
      "Extracting ../chap_08/data\\FashionMNIST\\raw\\t10k-images-idx3-ubyte.gz to ../chap_08/data\\FashionMNIST\\raw\n",
      "\n",
      "Downloading http://fashion-mnist.s3-website.eu-central-1.amazonaws.com/t10k-labels-idx1-ubyte.gz\n",
      "Downloading http://fashion-mnist.s3-website.eu-central-1.amazonaws.com/t10k-labels-idx1-ubyte.gz to ../chap_08/data\\FashionMNIST\\raw\\t10k-labels-idx1-ubyte.gz\n"
     ]
    },
    {
     "data": {
      "application/vnd.jupyter.widget-view+json": {
       "model_id": "a530507da38449338f3274e9448dc5d7",
       "version_major": 2,
       "version_minor": 0
      },
      "text/plain": [
       "  0%|          | 0/5148 [00:00<?, ?it/s]"
      ]
     },
     "metadata": {},
     "output_type": "display_data"
    },
    {
     "name": "stdout",
     "output_type": "stream",
     "text": [
      "Extracting ../chap_08/data\\FashionMNIST\\raw\\t10k-labels-idx1-ubyte.gz to ../chap_08/data\\FashionMNIST\\raw\n",
      "\n"
     ]
    }
   ],
   "source": [
    "# 8-2 데이터셋 내려받기\n",
    "\n",
    "trainset = torchvision.datasets.FashionMNIST(\n",
    "                            root='../chap_08/data', train=True,\n",
    "                            download=True,\n",
    "                            transform=transforms.ToTensor())"
   ]
  },
  {
   "attachments": {},
   "cell_type": "markdown",
   "metadata": {},
   "source": [
    "내려받은 데이터셋을 메모리로 가져온다. 단 trainloader변수가 호출될 때 메모리로 가져오게 된다."
   ]
  },
  {
   "cell_type": "code",
   "execution_count": 3,
   "metadata": {},
   "outputs": [],
   "source": [
    "# 8-3 데이터셋을 메모리로 가져오기\n",
    "batch_size = 4\n",
    "trainloader = torch.utils.data.DataLoader(trainset, batch_size=batch_size, shuffle=True)"
   ]
  },
  {
   "attachments": {},
   "cell_type": "markdown",
   "metadata": {},
   "source": [
    "배치 사이즈를 4로 설정했기 때문에 데이터를 메모리로 가져올 때 한 번에 네 개씩 쪼개서 가져온다.\n",
    "\n",
    "데이터셋을 이미지와 레이블로 분리하여 학습을 위한 준비를 한다.  \n",
    "분리된 데이터셋에 대한 정보를 확인해본다."
   ]
  },
  {
   "cell_type": "code",
   "execution_count": 6,
   "metadata": {},
   "outputs": [
    {
     "name": "stdout",
     "output_type": "stream",
     "text": [
      "torch.Size([4, 1, 28, 28])\n",
      "torch.Size([1, 28, 28])\n",
      "torch.Size([])\n"
     ]
    }
   ],
   "source": [
    "# 8-4 데이터셋 분리\n",
    "dataiter = iter(trainloader)\n",
    "images, labels = next(dataiter) # dataiter.next() 오류 해결법. Pytorch 버전 이슈.\n",
    "\n",
    "print(images.shape)\n",
    "print(images[0].shape)\n",
    "print(labels[0].shape)"
   ]
  },
  {
   "attachments": {},
   "cell_type": "markdown",
   "metadata": {},
   "source": [
    "출력의 크기가 의미하는 바는 다음과 같다.\n",
    "\n",
    "4: 한 번의 배치 크기로 몇 개의 데이터를 가져오는지 의미한다. 앞서 batch_size는 4로 설정.  \n",
    "1: 채널을 의미하는 것으로 흑백 이미지는 1, 컬러 이미지는 3을 의미.  \n",
    "28 x 28(너비x높이) 픽셀 크기의 이미지라는 의미.\n",
    "\n",
    "예제에서 사용하는 데이터셋의 이미지 몇 개만 출력해보자. 먼저 이미지 출력을 위해 데이터 형태를 바꾸어 주기 위한 전처리 함수를 생성한다."
   ]
  },
  {
   "cell_type": "code",
   "execution_count": 7,
   "metadata": {},
   "outputs": [],
   "source": [
    "# 코드 8-5 이미지 데이터를 출력하기 위한 전처리\n",
    "def imshow(img, title):\n",
    "    plt.figure(figsize=(batch_size * 4, 4)) # 출력할 개별 이미지의 크기 지정\n",
    "    plt.axis('off')\n",
    "    plt.imshow(np.transpose(img, (1, 2, 0))) # No.1\n",
    "    plt.title(title)\n",
    "    plt.show()"
   ]
  },
  {
   "attachments": {},
   "cell_type": "markdown",
   "metadata": {},
   "source": [
    "### No.1\n",
    "기본적으로 파이토치는 이미지 데이터셋을 [배치크기, 채널, 너비, 높이] 순서대로 저장한다. 하지만 이를 팻플롯립(matplotlib)으로 출력하기 위해서는 이미지가 [너비, 높이, 채널] 형태여야 한다.  \n",
    "즉, 데이터의 형태 변경이 필요한데, 이때 사용할 수 있는 것이 넘파이 라이브러리의 transpose()이다."
   ]
  },
  {
   "cell_type": "code",
   "execution_count": 8,
   "metadata": {},
   "outputs": [],
   "source": [
    "# 8-6 이미지 데이터 출력 함수\n",
    "def show_batch_images(dataloader):\n",
    "    images, labels = next(iter(dataloader)) # 이미지의 크기는 (4, 28, 28, 1(배치 크기, 높이, 너비, 채널))이 된다.\n",
    "\n",
    "    img = torchvision.utils.make_grid(images) # 좌표에 이미지 픽셀을 대응 시켜 그리드 형태로 출력한다.\n",
    "\n",
    "    imshow(img, title=[str(x.item()) for x in labels]) # imshow 함수를 사용함으로써 데이터의 형태는 (채널, 높이, 너비)에서 (높이, 너비, 채널)로 변경된다.\n",
    "\n",
    "    return images, labels"
   ]
  },
  {
   "cell_type": "code",
   "execution_count": 12,
   "metadata": {},
   "outputs": [
    {
     "data": {
      "image/png": "[encoded data removed]",
      "text/plain": [
       "<Figure size 1600x400 with 1 Axes>"
      ]
     },
     "metadata": {},
     "output_type": "display_data"
    }
   ],
   "source": [
    "# 8-7 이미지 출력\n",
    "images, labels = show_batch_images(trainloader)"
   ]
  },
  {
   "attachments": {},
   "cell_type": "markdown",
   "metadata": {},
   "source": [
    "가장 상위에 표시된 숫자는 클래스(레이블)을 의미한다.\n",
    "\n",
    "또한 네 개의 이미지가 출력되는 이유는 한 번의 배치에서 네 개의 이미지만 가져오도로고 했기 때문이다.  \n",
    "이제 모델의 네트워크를 구축해야 한다. 배치 정규화가 적용된 모델과 비교를 위해 배치 정규화가 적용되지 않는 모델을 먼저 생성해본다."
   ]
  },
  {
   "cell_type": "code",
   "execution_count": 15,
   "metadata": {},
   "outputs": [],
   "source": [
    "# 코드 8-8 배치 정규화가 적용되지 않는 네트워크\n",
    "class NormalNet(nn.Module):\n",
    "    def __init__(self):\n",
    "        super(NormalNet, self).__init__()\n",
    "        self.classifier = nn.Sequential(\n",
    "            nn.Linear(784, 48), # ----- (28, 28) 크기의 이미지로 입력은 784(28 x 28) 크기가 된다.\n",
    "            nn.ReLU(),\n",
    "            nn.Linear(48, 24),\n",
    "            nn.ReLU(),\n",
    "            nn.Linear(24, 10) # ------ FashionMNIST의 클래스는 총 열 개\n",
    "        ) # ------ nn.Sequential을 사용하면 forward() 함수에서 계층(layer)별로 가독성 있게 코드 구현이 가능\n",
    "\n",
    "    def forward(self, x):\n",
    "        x = x.view(x.size(0), -1)\n",
    "        x = self.classifier(x) # -------- nn.Sequential에서 정의한 계층 호출\n",
    "        return x\n"
   ]
  },
  {
   "cell_type": "code",
   "execution_count": null,
   "metadata": {},
   "outputs": [],
   "source": []
  }
 ],
 "metadata": {
  "kernelspec": {
   "display_name": "base",
   "language": "python",
   "name": "python3"
  },
  "language_info": {
   "codemirror_mode": {
    "name": "ipython",
    "version": 3
   },
   "file_extension": ".py",
   "mimetype": "text/x-python",
   "name": "python",
   "nbconvert_exporter": "python",
   "pygments_lexer": "ipython3",
   "version": "3.9.13"
  },
  "orig_nbformat": 4
 },
 "nbformat": 4,
 "nbformat_minor": 2
}
