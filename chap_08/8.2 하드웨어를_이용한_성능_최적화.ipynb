{
 "cells": [
  {
   "attachments": {},
   "cell_type": "markdown",
   "metadata": {},
   "source": [
    "# 8.2.1 CPU와 GPU 사용의 차이"
   ]
  },
  {
   "attachments": {},
   "cell_type": "markdown",
   "metadata": {},
   "source": [
    "CPU와 GPU는 개발된 목적이 다르고, 그에 따라 내부 구조도 다르기 때문이다.\n",
    "\n",
    "CPU는 명령어가 입력되는 순서대로 데이터를 처리하는 과정에서 성능이 우수하다.\n",
    "GPU는 병렬 처리를 위해 개발되었기 때문에 여러 명령을 동시에 처리하는 병렬 처리 방식에 특화 되어있다."
   ]
  },
  {
   "attachments": {},
   "cell_type": "markdown",
   "metadata": {},
   "source": [
    "역전파(backpropagation)처럼 복잡한 미적분은 병렬 연산을 해야 속도가 빨라진다. 따라서 GPU 사용이 딥러닝에서 계산 시간 또는 훈련 시간에서 많이 단측 된다."
   ]
  }
 ],
 "metadata": {
  "language_info": {
   "name": "python"
  },
  "orig_nbformat": 4
 },
 "nbformat": 4,
 "nbformat_minor": 2
}
