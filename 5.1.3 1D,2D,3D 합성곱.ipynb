{
 "cells": [
  {
   "attachments": {},
   "cell_type": "markdown",
   "metadata": {},
   "source": [
    "# 5.1.3 1D, 2D, 3D 합성곱\n",
    "합성곱은 이동하는 방향의 수와 출력 형태에 따라 1D, 2D, 3D로 분류한다."
   ]
  },
  {
   "attachments": {},
   "cell_type": "markdown",
   "metadata": {},
   "source": [
    "### 1D 합성곱\n",
    "\n",
    "1D 합성곱은 필터가 시간을 축으로 좌우로만 이동할 수 있는 합성곱이다.  \n",
    "따라서 입력(W)과 필터(k)에 대한 출력은 W가 된다.  \n",
    "예를 들어 입력이[1,1,1,1,1]이고, 필터가[0.25,0.5,0.25]라면, 출력은 [1,1,1,1,1]이 된다.  \n",
    "그래프 곡선을 완화할 때 많이 사용된다. "
   ]
  },
  {
   "attachments": {},
   "cell_type": "markdown",
   "metadata": {},
   "source": [
    "### 2D 합성곱\n",
    "\n",
    "2D 합성곱은 필터가 방향 두 개로 움직이는 형태이다.  \n",
    "즉, 입력(W,H)과 필터(k,k)에 대한 출력은 (W,H)가 되며, 출력 형태는 2D 행렬이 된다."
   ]
  },
  {
   "attachments": {},
   "cell_type": "markdown",
   "metadata": {},
   "source": [
    "### 3D 합성곱\n",
    "3D 합성곱은 필터가 움직이는 방향이 세 개 있다.  \n",
    "입력(W,H,L)에 대해 필터 (k,k,d)를 적용하면 출력으로 (W,H,L)을 갖는 형태가 3D 합성곱이다.  \n",
    "이때 d < L 을 유지하는게 중요하다."
   ]
  },
  {
   "attachments": {},
   "cell_type": "markdown",
   "metadata": {},
   "source": [
    "### 3D 입력을 갖는 2D 합성곱\n",
    "\n",
    "입력이 3D 형태임에도 출력 형태가 3D가 아닌 2D 행렬을 취하는것이 '3D 입력을 갖는 2D 합성곱'이다.  \n",
    "필터에 대한 길이(L)이 입력 채널의 길이(L)와 같아야 하기 때문에 이와 같은 합성곱 형태가 만들어진다.  \n",
    "입력(W,H,L)에 필터(k,k,L)을 적용하면 출력은(W,H)가 된다.  \n",
    "필터는 두 방향으로 움직이며 출력 형태는 2D 행렬이 된다.  \n",
    "대표적으로 LeNet-5와 VGG가 있다."
   ]
  },
  {
   "attachments": {},
   "cell_type": "markdown",
   "metadata": {},
   "source": [
    "### 1x1 합성곱\n",
    "\n",
    "1x1 합성곱은 3D 형태로 입력된다.  \n",
    "입력(W,H,L)에 필터(1,1,L)을 적용하면 출력은 (W,H)가 된다.  \n",
    "1x1 합성곱에서 채널 수를 조정해서 연산량이 감소되는 효과가 있으며, 대표적 사례로는 GoogleNet이 있다."
   ]
  }
 ],
 "metadata": {
  "language_info": {
   "name": "python"
  },
  "orig_nbformat": 4
 },
 "nbformat": 4,
 "nbformat_minor": 2
}
