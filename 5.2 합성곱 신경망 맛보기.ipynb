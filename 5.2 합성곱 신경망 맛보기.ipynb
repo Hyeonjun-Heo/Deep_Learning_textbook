{
 "cells": [
  {
   "attachments": {},
   "cell_type": "markdown",
   "metadata": {},
   "source": [
    "# 5.2 합성곱 신경망 맛보기\n",
    "\n",
    "fashion_mnist 데이터셋을 사용하여 합성곱 신경망을 직접 구현한다."
   ]
  },
  {
   "cell_type": "code",
   "execution_count": 1,
   "metadata": {},
   "outputs": [],
   "source": [
    "import numpy as np\n",
    "import matplotlib.pyplot as plt\n",
    "\n",
    "import torch\n",
    "import torch.nn as nn\n",
    "from torch.autograd import Variable\n",
    "import torch.nn.functional as F\n",
    "\n",
    "import torchvision\n",
    "import torchvision.transforms as transforms # ------ 데이터 전처리를 위해 사용하는 라이브러리\n",
    "from torch.utils.data import Dataset, DataLoader"
   ]
  },
  {
   "cell_type": "code",
   "execution_count": 2,
   "metadata": {},
   "outputs": [],
   "source": [
    "device = torch.device(\"cuda:0\" if torch.cuda.is_available() else \"cpu\")"
   ]
  },
  {
   "attachments": {},
   "cell_type": "markdown",
   "metadata": {},
   "source": [
    "이번 예제에서 사용할 fashion_mnist 데이터셋은 토치비전으로 내려받을 수 있다."
   ]
  },
  {
   "cell_type": "code",
   "execution_count": 3,
   "metadata": {},
   "outputs": [
    {
     "name": "stdout",
     "output_type": "stream",
     "text": [
      "Downloading http://fashion-mnist.s3-website.eu-central-1.amazonaws.com/train-images-idx3-ubyte.gz\n",
      "Downloading http://fashion-mnist.s3-website.eu-central-1.amazonaws.com/train-images-idx3-ubyte.gz to ../chap05/data\\FashionMNIST\\raw\\train-images-idx3-ubyte.gz\n"
     ]
    },
    {
     "data": {
      "application/vnd.jupyter.widget-view+json": {
       "model_id": "9aa117e8572c45c88fb4ff6848ce2e13",
       "version_major": 2,
       "version_minor": 0
      },
      "text/plain": [
       "  0%|          | 0/26421880 [00:00<?, ?it/s]"
      ]
     },
     "metadata": {},
     "output_type": "display_data"
    },
    {
     "name": "stdout",
     "output_type": "stream",
     "text": [
      "Extracting ../chap05/data\\FashionMNIST\\raw\\train-images-idx3-ubyte.gz to ../chap05/data\\FashionMNIST\\raw\n",
      "\n",
      "Downloading http://fashion-mnist.s3-website.eu-central-1.amazonaws.com/train-labels-idx1-ubyte.gz\n",
      "Downloading http://fashion-mnist.s3-website.eu-central-1.amazonaws.com/train-labels-idx1-ubyte.gz to ../chap05/data\\FashionMNIST\\raw\\train-labels-idx1-ubyte.gz\n"
     ]
    },
    {
     "data": {
      "application/vnd.jupyter.widget-view+json": {
       "model_id": "55f8407b5cfc4e1cb8aa7fc1c928b28c",
       "version_major": 2,
       "version_minor": 0
      },
      "text/plain": [
       "  0%|          | 0/29515 [00:00<?, ?it/s]"
      ]
     },
     "metadata": {},
     "output_type": "display_data"
    },
    {
     "name": "stdout",
     "output_type": "stream",
     "text": [
      "Extracting ../chap05/data\\FashionMNIST\\raw\\train-labels-idx1-ubyte.gz to ../chap05/data\\FashionMNIST\\raw\n",
      "\n",
      "Downloading http://fashion-mnist.s3-website.eu-central-1.amazonaws.com/t10k-images-idx3-ubyte.gz\n",
      "Downloading http://fashion-mnist.s3-website.eu-central-1.amazonaws.com/t10k-images-idx3-ubyte.gz to ../chap05/data\\FashionMNIST\\raw\\t10k-images-idx3-ubyte.gz\n"
     ]
    },
    {
     "data": {
      "application/vnd.jupyter.widget-view+json": {
       "model_id": "b4c6c9845d204aeea361e072edf31669",
       "version_major": 2,
       "version_minor": 0
      },
      "text/plain": [
       "  0%|          | 0/4422102 [00:00<?, ?it/s]"
      ]
     },
     "metadata": {},
     "output_type": "display_data"
    },
    {
     "name": "stdout",
     "output_type": "stream",
     "text": [
      "Extracting ../chap05/data\\FashionMNIST\\raw\\t10k-images-idx3-ubyte.gz to ../chap05/data\\FashionMNIST\\raw\n",
      "\n",
      "Downloading http://fashion-mnist.s3-website.eu-central-1.amazonaws.com/t10k-labels-idx1-ubyte.gz\n",
      "Downloading http://fashion-mnist.s3-website.eu-central-1.amazonaws.com/t10k-labels-idx1-ubyte.gz to ../chap05/data\\FashionMNIST\\raw\\t10k-labels-idx1-ubyte.gz\n"
     ]
    },
    {
     "data": {
      "application/vnd.jupyter.widget-view+json": {
       "model_id": "a8d52bc57e9744dcadfcc3c9be577997",
       "version_major": 2,
       "version_minor": 0
      },
      "text/plain": [
       "  0%|          | 0/5148 [00:00<?, ?it/s]"
      ]
     },
     "metadata": {},
     "output_type": "display_data"
    },
    {
     "name": "stdout",
     "output_type": "stream",
     "text": [
      "Extracting ../chap05/data\\FashionMNIST\\raw\\t10k-labels-idx1-ubyte.gz to ../chap05/data\\FashionMNIST\\raw\n",
      "\n"
     ]
    }
   ],
   "source": [
    "# 5-3 fashion_mnist 데이터셋 내려받기\n",
    "train_dataset = torchvision.datasets.FashionMNIST(\"../chap05/data\", download=True,\n",
    "                                                  transform=transforms.Compose([transforms.ToTensor()])) # No.1\n",
    "test_dataset = torchvision.datasets.FashionMNIST(\"../chap05/data\", download=True,\n",
    "                                                 train=False, transform=transforms.Compose([transforms.ToTensor()])) # 앞에서 훈련 데이터셋을 내려받았다면 여기에서는 테스트 데이터셋을 내려받는다."
   ]
  },
  {
   "attachments": {},
   "cell_type": "markdown",
   "metadata": {},
   "source": [
    "#### No.1 \n",
    "torchvision.datasets는 torch.utils.data.Dataset의 하위 클래스로 다양한 데이터셋을 포함한다.  \n",
    "주요한 파라미터는 다음과 같다.  \n",
    "\n",
    "첫 번째 파라미터 : FashionMnist를 내려받을 위치를 지정한다.  \n",
    "download: download를 True로 벼경해주면 첫 번째 파라미터의 위리에 해당 데이터셋이 있는지 확인한 후 내려받는다.  \n",
    "transform: 이미지를 텐서(0~1)로 변경한다."
   ]
  },
  {
   "cell_type": "code",
   "execution_count": 4,
   "metadata": {},
   "outputs": [],
   "source": [
    "# 코드 5-4 fashion_mnist 데이터를 데이터로더에 전달\n",
    "train_loader = torch.utils.data.DataLoader(train_dataset, batch_size=100) # ------ ①\n",
    "test_loader = torch.utils.data.DataLoader(test_dataset, batch_size=100)\n"
   ]
  },
  {
   "attachments": {},
   "cell_type": "markdown",
   "metadata": {},
   "source": [
    "#### No.1\n",
    "torch.utils.data.DataLoader()를 사용하여 원하는 크기의 배치 단위로 데이터를 불러오거나, 순서가 무작위로 섞이도록 할 수 있다.  \n",
    "데이터로더에서 사용하는 파라미터는 다음과 같다.  \n",
    "\n",
    "첫 번째 파라미터: 데이터를 불러올 데이터셋을 지정한다.  \n",
    "batch_size: 데이터를 배치로 묶어 준다. 여기에서는 100개 단위로 데이터를 묶어서 불러온다.  "
   ]
  },
  {
   "cell_type": "code",
   "execution_count": 5,
   "metadata": {},
   "outputs": [
    {
     "data": {
      "image/png": "[encoded data removed]",
      "text/plain": [
       "<Figure size 800x800 with 20 Axes>"
      ]
     },
     "metadata": {},
     "output_type": "display_data"
    }
   ],
   "source": [
    "labels_map = {0 : 'T-Shirt', 1 : 'Trouser', 2 : 'Pullover', 3 : 'Dress', 4 : 'Coat', 5 : 'Sandal', 6 : 'Shirt', 7 : 'Sneaker', 8 : 'Bag', 9 : 'Ankle Boot'} # ------ 열 개의 클래스\n",
    "\n",
    "fig = plt.figure(figsize=(8,8)); #  ------ 출력할 이미지의 가로세로 길이로 단위는 inch\n",
    "columns = 4;\n",
    "rows = 5;\n",
    "for i in range(1, columns*rows +1):\n",
    "    img_xy = np.random.randint(len(train_dataset));  # No.1\n",
    "    img = train_dataset[img_xy][0][0,:,:] # No.2\n",
    "    fig.add_subplot(rows, columns, i)\n",
    "    plt.title(labels_map[train_dataset[img_xy][1]])\n",
    "    plt.axis('off')\n",
    "    plt.imshow(img, cmap='gray')\n",
    "plt.show() # ------ 20개의 이미지 데이터를 시각적으로 표현"
   ]
  },
  {
   "attachments": {},
   "cell_type": "markdown",
   "metadata": {},
   "source": [
    "#### No.1\n",
    "np.random은 무작위로 데이터를 생성할 때 사용한다.  \n",
    "또한 np.random.randint()는 이산형 분포를 갖는 데이터에서 무작위 표본을 추출할 때 사용한다.  \n",
    "따라서 random.randint(len(train_dataset))의 의미는 0~(train_dataset의 길이)값을 갖는 분포에서 랜덤한 숫자 한개를 생성하라는 의미이다.  \n",
    "radnom.randint와 유사하게 사용되는 radnom.rand와 radndom.randn을 예시로 살펴본다."
   ]
  },
  {
   "cell_type": "code",
   "execution_count": 6,
   "metadata": {},
   "outputs": [
    {
     "data": {
      "text/plain": [
       "9"
      ]
     },
     "execution_count": 6,
     "metadata": {},
     "output_type": "execute_result"
    }
   ],
   "source": [
    "import numpy as np\n",
    "np.random.randint(10) # 0~10의 임의의 숫자를 출력"
   ]
  },
  {
   "cell_type": "code",
   "execution_count": 7,
   "metadata": {},
   "outputs": [
    {
     "data": {
      "text/plain": [
       "3"
      ]
     },
     "execution_count": 7,
     "metadata": {},
     "output_type": "execute_result"
    }
   ],
   "source": [
    "np.random.randint(1,10) # 1~9의 임의의 숫자를 출력"
   ]
  },
  {
   "cell_type": "code",
   "execution_count": 8,
   "metadata": {},
   "outputs": [
    {
     "data": {
      "text/plain": [
       "array([0.74990212, 0.33265276, 0.10066955, 0.98495776, 0.45686778,\n",
       "       0.43063301, 0.84279921, 0.80191705])"
      ]
     },
     "execution_count": 8,
     "metadata": {},
     "output_type": "execute_result"
    }
   ],
   "source": [
    "np.random.rand(8) # 0~1사이의 정규표준분포 난수를 행렬 (1x8) 출력"
   ]
  },
  {
   "cell_type": "code",
   "execution_count": 9,
   "metadata": {},
   "outputs": [
    {
     "data": {
      "text/plain": [
       "array([[0.05992129, 0.96376266],\n",
       "       [0.2911437 , 0.12723718],\n",
       "       [0.60613004, 0.9372338 ],\n",
       "       [0.02403201, 0.94011263]])"
      ]
     },
     "execution_count": 9,
     "metadata": {},
     "output_type": "execute_result"
    }
   ],
   "source": [
    "np.random.rand(4,2) # 0~1 사이의 정규표준분포 난수를 행렬로 (4x2) 출력"
   ]
  },
  {
   "cell_type": "code",
   "execution_count": 10,
   "metadata": {},
   "outputs": [
    {
     "data": {
      "text/plain": [
       "array([ 0.29363462, -0.63038859,  0.2846512 ,  0.55568051,  0.10972292,\n",
       "        2.49502365,  0.98350427,  1.14041546])"
      ]
     },
     "execution_count": 10,
     "metadata": {},
     "output_type": "execute_result"
    }
   ],
   "source": [
    "np.random.randn(8) # 평균이 0이고, 표준편차가 1인 가우시안 정규분포 난수를 행렬로(1x8)로 출력"
   ]
  },
  {
   "cell_type": "code",
   "execution_count": 11,
   "metadata": {},
   "outputs": [
    {
     "data": {
      "text/plain": [
       "array([[-1.14979017,  0.56372767],\n",
       "       [-0.66897778,  0.58053703],\n",
       "       [ 0.77835263, -1.76450552],\n",
       "       [ 1.56881631, -0.90783306]])"
      ]
     },
     "execution_count": 11,
     "metadata": {},
     "output_type": "execute_result"
    }
   ],
   "source": [
    "np.random.randn(4,2) # 평균이 0이고, 표준편차가 1인 가우시안 정규분포 난수를 행렬로(4x2)로 출력"
   ]
  },
  {
   "attachments": {},
   "cell_type": "markdown",
   "metadata": {},
   "source": [
    "#### No.2 \n",
    "train_dataset을 이용한 3차원 배열을 생성한다.  \n",
    "배열에 대한 사용은 다음 예시를 참고."
   ]
  },
  {
   "cell_type": "code",
   "execution_count": 12,
   "metadata": {},
   "outputs": [
    {
     "name": "stdout",
     "output_type": "stream",
     "text": [
      "[[ 0  3  6  9]\n",
      " [12 15 18 21]\n",
      " [24 27 30 33]\n",
      " [36 39 42 45]\n",
      " [48 51 54 57]\n",
      " [60 63 66 69]]\n",
      "[36 39 42 45]\n",
      "45\n",
      "45\n"
     ]
    }
   ],
   "source": [
    "import numpy as np\n",
    "examp = np.arange(0, 100, 3) # 1~99의 숫자에서 3씩 건너뛴 행려를 생성\n",
    "examp.resize(6,4) # 행렬의 크기를 6x4로 수정\n",
    "print(examp)\n",
    "print(examp[3]) # 3행에 해당하는 모든 요소(값)들을 출력 (행과 열은 0부터 시작)\n",
    "print(examp[3,3]) # 3행의 3번째 열에 대한 값을 출력\n",
    "print(examp[3][3]) #위와 동일"
   ]
  },
  {
   "cell_type": "code",
   "execution_count": 13,
   "metadata": {},
   "outputs": [
    {
     "data": {
      "text/plain": [
       "array([[[  0,   3,   6,   9,  12],\n",
       "        [ 15,  18,  21,  24,  27],\n",
       "        [ 30,  33,  36,  39,  42],\n",
       "        [ 45,  48,  51,  54,  57],\n",
       "        [ 60,  63,  66,  69,  72]],\n",
       "\n",
       "       [[ 75,  78,  81,  84,  87],\n",
       "        [ 90,  93,  96,  99, 102],\n",
       "        [105, 108, 111, 114, 117],\n",
       "        [120, 123, 126, 129, 132],\n",
       "        [135, 138, 141, 144, 147]],\n",
       "\n",
       "       [[150, 153, 156, 159, 162],\n",
       "        [165, 168, 171, 174, 177],\n",
       "        [180, 183, 186, 189, 192],\n",
       "        [195, 198, 201, 204, 207],\n",
       "        [210, 213, 216, 219, 222]]])"
      ]
     },
     "execution_count": 13,
     "metadata": {},
     "output_type": "execute_result"
    }
   ],
   "source": [
    "# 따라서 train_dataset[img_xy][0][0,:,:]의 의미는 다음 예시로 출력 결과를 유추해 볼 수 있다.\n",
    "examp = np.arange(0, 500, 3)\n",
    "examp.resize(3,5,5)\n",
    "examp"
   ]
  },
  {
   "cell_type": "code",
   "execution_count": 14,
   "metadata": {},
   "outputs": [
    {
     "data": {
      "text/plain": [
       "159"
      ]
     },
     "execution_count": 14,
     "metadata": {},
     "output_type": "execute_result"
    }
   ],
   "source": [
    "examp[2][0][3]"
   ]
  },
  {
   "attachments": {},
   "cell_type": "markdown",
   "metadata": {},
   "source": [
    "합성곱 신경망과 합성곱 신경망이 아닌 심층 신경망의 비교를 위해 먼저 심층 신경망을 생성한 후 학습시켜본다.  \n",
    "즉, ConvNet이 적용되지 않은 네트워크를 먼저 만들어본다."
   ]
  },
  {
   "cell_type": "code",
   "execution_count": 15,
   "metadata": {},
   "outputs": [],
   "source": [
    "# 5-6 심층신경망 모델 생성\n",
    "class FashionDNN(nn.Module):\n",
    "    def __init__(self): #No.1\n",
    "        super(FashionDNN, self).__init__()\n",
    "        self.fc1 = nn.Linear(in_features=784, out_features=256) # No.2\n",
    "        self.drop = nn.Dropout(0.25) # No.3\n",
    "        self.fc2 = nn.Linear(in_features=256, out_features=128)\n",
    "        self.fc3 = nn.Linear(in_features=128, out_features=10)\n",
    "\n",
    "    def forward(self, input_data): # No.4\n",
    "        out = input_data.view(-1, 784) # No.5\n",
    "        out = F.relu(self.fc1(out)) # No.6\n",
    "        out = self.drop(out)\n",
    "        out = F.relu(self.fc2(out))\n",
    "        out = self.fc3(out)\n",
    "        return out\n"
   ]
  },
  {
   "attachments": {},
   "cell_type": "markdown",
   "metadata": {},
   "source": [
    "#### No.1\n",
    "클래서(class)형태의 모델은 항상 torch.nn.Module을 상속 받는다.  \n",
    "__init__()은 객체가 갖는 속성 값을 초기화 하는 역할을 하며, 객체가 생성될 때 자동으로 호출된다.  \n",
    "super(FashionDNN, self).__init__()은 FashionDNN이라는 부모(super)클래스를 상속받겠다는 의미이다.  \n",
    "\n",
    "#### No.2\n",
    "nn은 딥러닝 모델(네트워크) 구성에 필요한 모듈이 모여있는 패키지이며, Linear는 단순 선형 회귀 모델을 만들 때 사용한다. 파라미터는 다음과 같다.\n",
    "* in_features: 입력의 크기\n",
    "* out_features: 출력의 크기\n",
    "실제로 연산이 진행되는 forward() 부분에서는 첫 번째 파라미터 값만 넘겨주게 되며, 두 번째 파라미터에서 정의된 크기가 forward()연산의 결과가 된다.  \n",
    "\n",
    "#### No.3\n",
    "torch.nn.Dropout(p)는 p만큼의 비율로 텐서의 값이 0이 되고, 0이 되지 않는 값들은 기존 값에 (1/(1-p))만큼 곱해져 커진다.  \n",
    "예를들어 p=0.3이라는 의미는 전체 값중 0.3의 확률로 0이 된다는 것이며, 0이 되지않는 0.7에 해당하는 값은 (1/(1-0.7))만큼 커진다.\n",
    "\n",
    "#### No.4\n",
    "forward() 함수는 모델이 학습 데이터를 입력받아서 순전파(forward propagation) 학습을 진행시키며, 반드시 forward라는 이름의 함수여야 한다.  \n",
    "즉, forward()는 모델이 학습 데이터를 입력받아서 순전파 연산을 진행하는 함수이며, 객체를 데이터와 함께 호출하면 자동으로 실행된다.  \n",
    "이때 순전파 연산이란 H(x)^2식에 입력 x로부터 예측된 y를 얻는 것 이다.\n",
    "\n",
    "#### No.5\n",
    "파이토치에서 사용하는 뷰(view)는 넘파이의 reshape과 같은 역할로 텐서의 크기를 변경해주는 역할을 한다.  \n",
    "따라서 input_data.view(-1, 784)는 input_data를 (?, 784)의 크기로 변경하라는 의미이다.  다시 말해서 2차원의 텐서로 변경하되, (?,784)의 크기로 변경하라는 의미이다.  \n",
    "\n",
    "#### No.6\n",
    "활성화 함수를 지정할 때는 다음 두가지 방법이 가능하다.\n",
    "* F.relu(): forward() 함수에서 정의\n",
    "* nn.ReLU(): __init__() 함수에서 정의\n",
    "활성화 함수 사용에 한정하여 이 둘 간의 차이는 간단히 사용하는 위치라고 정의한다.  \n",
    "하지만 근본적으로는 nn.functional.xx()(혹은 F.xx())와 nn.xx()는 사용 방법에 차이가 있다.  \n",
    "nn.Conv2d에서 input_channel과 output_channel을 사용해서 연산했다면, functional.conv2d는 입력(input)과 가중치(weight)를 직접 넣어준다.  \n",
    "이때 직접 넣어준다는 의미는 가중치를 전달 해야할 때마다 가중치 값을 새로 정의해야함을 의미한다.  \n",
    "다음은 nn.xx와 nn.functional.xx를 비교한 표이다.  \n",
    "<img src=\"표5-1.jpg\" width=\"800\" height=\"400\"/>"
   ]
  },
  {
   "attachments": {},
   "cell_type": "markdown",
   "metadata": {},
   "source": [
    "모델을 학습시키기 전에 손실 함수, 학습률, 옵티마이저에 대해 정의한다."
   ]
  },
  {
   "cell_type": "code",
   "execution_count": 16,
   "metadata": {},
   "outputs": [
    {
     "name": "stdout",
     "output_type": "stream",
     "text": [
      "FashionDNN(\n",
      "  (fc1): Linear(in_features=784, out_features=256, bias=True)\n",
      "  (drop): Dropout(p=0.25, inplace=False)\n",
      "  (fc2): Linear(in_features=256, out_features=128, bias=True)\n",
      "  (fc3): Linear(in_features=128, out_features=10, bias=True)\n",
      ")\n"
     ]
    }
   ],
   "source": [
    "# 5-7 심층 신경망에서 필요한 파라미터 정의\n",
    "learning_rate = 0.001\n",
    "model = FashionDNN()\n",
    "\n",
    "criterion = nn.CrossEntropyLoss() # 분류 문제에서 사용하는 손실 함수\n",
    "optimizer = torch.optim.Adam(model.parameters(), lr=learning_rate) # No.1\n",
    "print(model)"
   ]
  },
  {
   "cell_type": "code",
   "execution_count": 17,
   "metadata": {},
   "outputs": [
    {
     "name": "stdout",
     "output_type": "stream",
     "text": [
      "Iteration: 500, Loss: 0.5820767879486084, Accuracy: 83.13999938964844%\n",
      "Iteration: 1000, Loss: 0.5558593273162842, Accuracy: 84.36000061035156%\n",
      "Iteration: 1500, Loss: 0.3838373124599457, Accuracy: 84.33000183105469%\n",
      "Iteration: 2000, Loss: 0.3967922329902649, Accuracy: 85.29000091552734%\n",
      "Iteration: 2500, Loss: 0.2990701198577881, Accuracy: 86.31999969482422%\n",
      "Iteration: 3000, Loss: 0.2578272521495819, Accuracy: 86.47000122070312%\n"
     ]
    }
   ],
   "source": [
    "num_epochs = 5\n",
    "count = 0\n",
    "loss_list = [] # ------ ①\n",
    "iteration_list = []\n",
    "accuracy_list = []\n",
    "\n",
    "predictions_list = []\n",
    "labels_list = []\n",
    "\n",
    "for epoch in range(num_epochs):\n",
    "    for images, labels in train_loader: # ------ ②\n",
    "        images, labels = images.to(device), labels.to(device) # ------ ③\n",
    "\n",
    "        train = Variable(images.view(100, 1, 28, 28)) # ------ ④\n",
    "        labels = Variable(labels)\n",
    "\n",
    "        outputs = model(train) # ------ 학습 데이터를 모델에 적용\n",
    "        loss = criterion(outputs, labels)\n",
    "        optimizer.zero_grad()\n",
    "        loss.backward()\n",
    "        optimizer.step()\n",
    "        count += 1\n",
    "\n",
    "        if not (count % 50): # ------ count를 50으로 나누었을 때 나머지가 0이 아니라면 실행\n",
    "            total = 0\n",
    "            correct = 0\n",
    "            for images, labels in test_loader:\n",
    "                images, labels = images.to(device), labels.to(device)\n",
    "                labels_list.append(labels)\n",
    "                test = Variable(images.view(100, 1, 28, 28))\n",
    "                outputs = model(test)\n",
    "                predictions = torch.max(outputs, 1)[1].to(device)\n",
    "                predictions_list.append(predictions)\n",
    "                correct += (predictions == labels).sum()\n",
    "                total += len(labels)\n",
    "\n",
    "            accuracy = correct * 100 / total # ------ ⑤\n",
    "            loss_list.append(loss.data) # ------ ①′\n",
    "            iteration_list.append(count)\n",
    "            accuracy_list.append(accuracy)\n",
    "\n",
    "        if not (count % 500):\n",
    "            print(\"Iteration: {}, Loss: {}, Accuracy: {}%\".format(count, loss.data, accuracy))"
   ]
  },
  {
   "attachments": {},
   "cell_type": "markdown",
   "metadata": {},
   "source": [
    "#### No.1, No.1' \n",
    "\n",
    "일반적으로 배열이나 행렬이나 행렬과 같은 리스트를 사용하는 방법은 다음과 같다.  \n",
    "* No.1 과 같이 비어 있는 배열이나 행렬을 만듭니다.\n",
    "* No.1'처럼 append 메서드를 이용해서 데이터를 하나씩 추가한다.\n",
    "\n",
    "#### No.2\n",
    "for 구문을 이용하여 레코드(행, 가로줄)를 하나씩 가져온다. 이때, for x, y in train: 과 같이 in 앞에 변수를 두개 지정해주면 레코드에서 요소 두 개를 꺼내오겠다는 의미이다.  \n",
    "\n",
    "#### No.3\n",
    "모델이 데이터를 처리하기 위해서는 모델과 데이터가 동일한 장치(CPU, GPU)에 있어야 한다.\n",
    "\n",
    "#### No.4\n",
    "Autograd는 자동 미분을 수행하는 파이토치의 핵심 패키지로, 자동 미분에 대한 값을 저장하기 위해 테이프(tape)를 이용한다.  \n",
    "순전파(foward)단계에서 테이프는 수행하는 모든 연산을 저장한다.  즉, Autograd는 Variable을 사용해서 역전파를 위한 미분 값을 자동으로 계산한다.  \n",
    "따라서 자동 미분을 계산하기 위해서는 Variable을 이용해야 동작한다.\n",
    "\n",
    "#### No.5\n",
    "분류 문제에 대한 정확도는 전체 예측에 대한 정확한 예측의 비율로 표현할 수 있으며, 코드는 다음과 같다.  \n",
    "* classification accuracy = correct predictions / total predictions\n",
    "이때 결과에 100을 곱하여 백분율로 표시하는 코드는 다음과 같다.  \n",
    "* classification accuracy = correct predictions / total predictions * 100\n",
    "또한, 분류 문제에 대한 정확도는 다음과 같이 값을 반전시켜 오분류율 또는 오류율로 표현할 수 있다.  \n",
    "* error rate = (1-(correct predictions / total predictions * 100))\n",
    "분류 문제에서 클래스가 세 개 이상일 때는 다음과 같은 사항에 주의해야 한다.  \n",
    "* 정확도가 80% 이상이라 가정하자. 하지만 80%라는 값이 모든 클래스가 동등하게 고려된 것인지, 특정 클래스의 분류가 높았던 것인지에 대해 알 수 없음을 유의해야한다.  \n",
    "* 정확도가 90% 이상이라 가정하자. 하지만 100개의 데이터중 90개가 하나의 클래스에 속할 경우, 90%의 정확도는 높다고 할 수 없다. 즉, 모든 데이터를 특정 클래스에 속한다고 예측해도 90%의 예측 결과가 나오기 때문에 데이터 특성에 따라 정확도를 잘 관측해야 한다."
   ]
  },
  {
   "cell_type": "markdown",
   "metadata": {},
   "source": []
  }
 ],
 "metadata": {
  "kernelspec": {
   "display_name": "base",
   "language": "python",
   "name": "python3"
  },
  "language_info": {
   "codemirror_mode": {
    "name": "ipython",
    "version": 3
   },
   "file_extension": ".py",
   "mimetype": "text/x-python",
   "name": "python",
   "nbconvert_exporter": "python",
   "pygments_lexer": "ipython3",
   "version": "3.9.13"
  },
  "orig_nbformat": 4
 },
 "nbformat": 4,
 "nbformat_minor": 2
}
